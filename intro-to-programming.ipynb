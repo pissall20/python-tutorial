{
 "cells": [
  {
   "cell_type": "markdown",
   "metadata": {},
   "source": [
    "# Basic Data Types in Python\n",
    "\n",
    "- Text Type: \t`str`\n",
    "- Numeric Types: \t`int`, `float`, `complex`\n",
    "- Sequence Types: \t`list`, `tuple`, `range`\n",
    "- Mapping Type: \t`dict`\n",
    "- Set Types: \t`set`, `frozenset`\n",
    "- Boolean Type: \t`bool`\n",
    "- Binary Types: \t`bytes`, `bytearray`, `memoryview`"
   ]
  },
  {
   "cell_type": "markdown",
   "metadata": {},
   "source": [
    "# Data Structures in Python\n",
    "\n",
    "### Lists\n",
    "- General purpose arrays\n",
    "- Most widely used data structure\n",
    "- Grow and shrink size as need\n",
    "- Sequence Type\n",
    "- Sortable\n",
    "\n",
    "`x = [1, 2, \"upgrad\", [\"john\", 24]]`\n",
    "\n",
    "### Tuples\n",
    "- Immutable (Can't add/change data)\n",
    "- Faster than Lists\n",
    "- Sequence Type\n",
    "\n",
    "`x = (2, \"Anthony\", 3.4)`\n",
    "\n",
    "### Sets\n",
    "- Stores only non-duplicate items\n",
    "- Very fast access rate vs Lists\n",
    "- Unordered\n",
    "- Based on Set theory from Mathematics\n",
    "\n",
    "`x = {5, 10, 15, 20, \"Four\"}`\n",
    "\n",
    "### Dict\n",
    "- Key:Value pairs\n",
    "- Unordered\n",
    "- Associative array like HashMap\n",
    "\n",
    "`x = {\"maths\": 65, \"science\": 75, \"history\": 60, \"geography\": 24, \"english\": None}`"
   ]
  },
  {
   "cell_type": "code",
   "execution_count": 1,
   "metadata": {},
   "outputs": [
    {
     "name": "stdout",
     "output_type": "stream",
     "text": [
      "[1, 2, 'upgrad', ['john', 24]]\n"
     ]
    }
   ],
   "source": [
    "x = [1, 2, \"upgrad\", [\"john\", 24]]\n",
    "print(x)"
   ]
  },
  {
   "cell_type": "markdown",
   "metadata": {},
   "source": [
    "### Indexing\n",
    "\n",
    "Accessing items in the data structures"
   ]
  },
  {
   "cell_type": "code",
   "execution_count": 2,
   "metadata": {},
   "outputs": [],
   "source": [
    "# list example\n",
    "list_ex = [1, 2, 2, 3, 4, 7, [\"Age\", \"Gender\", 24]]\n",
    "\n",
    "# Convert the above list to tuple using list comprehension\n",
    "tup_ex = (17, 23, 32, 90, 74, 7, 90, 32, 17)\n",
    "\n",
    "# Convert above tuple to set\n",
    "set_ex = {num for num in tup_ex}\n",
    "\n",
    "dict_ex = {\n",
    "  \"brand\": \"Ford\",\n",
    "  \"model\": \"Mustang\",\n",
    "  \"year\": 1964\n",
    "}"
   ]
  },
  {
   "cell_type": "code",
   "execution_count": 3,
   "metadata": {},
   "outputs": [
    {
     "name": "stdout",
     "output_type": "stream",
     "text": [
      "List: \n",
      "[1, 2, 2, 3, 4, 7, ['Age', 'Gender', 24]]\n",
      "Tuple: \n",
      "(17, 23, 32, 90, 74, 7, 90, 32, 17)\n",
      "Set: \n",
      "{32, 7, 74, 17, 23, 90}\n",
      "Dict: \n",
      "{'brand': 'Ford', 'model': 'Mustang', 'year': 1964}\n"
     ]
    }
   ],
   "source": [
    "print(\"List: \")\n",
    "print(list_ex)\n",
    "print(\"Tuple: \")\n",
    "print(tup_ex)\n",
    "print(\"Set: \")\n",
    "print(set_ex)\n",
    "print(\"Dict: \")\n",
    "print(dict_ex)"
   ]
  },
  {
   "cell_type": "code",
   "execution_count": 4,
   "metadata": {},
   "outputs": [],
   "source": [
    "# Indexing\n",
    "\n"
   ]
  },
  {
   "cell_type": "markdown",
   "metadata": {},
   "source": [
    "### Indexing, Slicing, Adding/Removing elements"
   ]
  },
  {
   "cell_type": "code",
   "execution_count": 5,
   "metadata": {},
   "outputs": [
    {
     "data": {
      "text/plain": [
       "set"
      ]
     },
     "execution_count": 5,
     "metadata": {},
     "output_type": "execute_result"
    }
   ],
   "source": [
    "type(set_ex)"
   ]
  },
  {
   "cell_type": "code",
   "execution_count": null,
   "metadata": {},
   "outputs": [],
   "source": []
  },
  {
   "cell_type": "markdown",
   "metadata": {},
   "source": [
    "\n",
    "# Control Statements and Loops\n"
   ]
  },
  {
   "cell_type": "markdown",
   "metadata": {},
   "source": [
    "### If Else statements"
   ]
  },
  {
   "cell_type": "code",
   "execution_count": 6,
   "metadata": {},
   "outputs": [
    {
     "name": "stdout",
     "output_type": "stream",
     "text": [
      "a and b are equal\n"
     ]
    }
   ],
   "source": [
    "# If - elif - else example\n",
    "a = 33\n",
    "b = 33\n",
    "if b > a:\n",
    "    print(\"b is greater than a\")\n",
    "elif a == b:\n",
    "    print(\"a and b are equal\")\n",
    "else:\n",
    "    print(\"a is greater than b\")"
   ]
  },
  {
   "cell_type": "markdown",
   "metadata": {},
   "source": [
    "### While loop"
   ]
  },
  {
   "cell_type": "code",
   "execution_count": 7,
   "metadata": {},
   "outputs": [
    {
     "name": "stdout",
     "output_type": "stream",
     "text": [
      "1\n",
      "2\n",
      "3\n",
      "4\n",
      "5\n",
      "i is no longer less than 6\n"
     ]
    }
   ],
   "source": [
    "# While loop example\n",
    "\n",
    "i = 1\n",
    "max_value = 6\n",
    "while i < max_value:\n",
    "    print(i)\n",
    "    i += 1\n",
    "else:\n",
    "    # do something\n",
    "    print(f\"i is no longer less than {max_value}\")\n",
    "    "
   ]
  },
  {
   "cell_type": "markdown",
   "metadata": {},
   "source": [
    "### For loop"
   ]
  },
  {
   "cell_type": "code",
   "execution_count": 8,
   "metadata": {},
   "outputs": [
    {
     "name": "stdout",
     "output_type": "stream",
     "text": [
      "[1, 2, 'upgrad', ['john', 24]]\n",
      "[1, 2, 'upgrad', ['john', 24]]\n",
      "[1, 2, 'upgrad', ['john', 24]]\n"
     ]
    }
   ],
   "source": [
    "# For loop example\n",
    "\n",
    "fruits = [\"apple\", \"banana\", \"cherry\"]\n",
    "\n",
    "for fruit in fruits:\n",
    "    # loop over list of fruits\n",
    "    print(x)\n"
   ]
  },
  {
   "cell_type": "code",
   "execution_count": 9,
   "metadata": {},
   "outputs": [
    {
     "name": "stdout",
     "output_type": "stream",
     "text": [
      "0\n",
      "1\n",
      "2\n",
      "3\n",
      "4\n",
      "5\n"
     ]
    }
   ],
   "source": [
    "for x in range(6):\n",
    "    print(x)\n"
   ]
  },
  {
   "cell_type": "markdown",
   "metadata": {},
   "source": [
    "# Functions"
   ]
  },
  {
   "cell_type": "code",
   "execution_count": 10,
   "metadata": {},
   "outputs": [
    {
     "name": "stdout",
     "output_type": "stream",
     "text": [
      "Hello from a function\n"
     ]
    }
   ],
   "source": [
    "def my_function():\n",
    "    print(\"Hello from a function\") \n",
    "    \n",
    "my_function()\n"
   ]
  },
  {
   "cell_type": "code",
   "execution_count": 11,
   "metadata": {},
   "outputs": [
    {
     "name": "stdout",
     "output_type": "stream",
     "text": [
      "Hello, World!\n"
     ]
    }
   ],
   "source": [
    "\n",
    "def print_hello(name):\n",
    "    print(f\"Hello, {name}!\")\n",
    "    \n",
    "print_hello(\"World\")"
   ]
  },
  {
   "cell_type": "code",
   "execution_count": 12,
   "metadata": {},
   "outputs": [
    {
     "data": {
      "text/plain": [
       "10"
      ]
     },
     "execution_count": 12,
     "metadata": {},
     "output_type": "execute_result"
    }
   ],
   "source": [
    "def multiply_5(x):\n",
    "    return x * 5\n",
    "\n",
    "multiply_5(2)"
   ]
  },
  {
   "cell_type": "markdown",
   "metadata": {},
   "source": [
    "### Lambda functions\n",
    "\n",
    "A lambda function is a small anonymous function.\n",
    "\n",
    "A lambda function can take any number of arguments, but can only have one expression."
   ]
  },
  {
   "cell_type": "code",
   "execution_count": 13,
   "metadata": {},
   "outputs": [
    {
     "name": "stdout",
     "output_type": "stream",
     "text": [
      "10\n"
     ]
    }
   ],
   "source": [
    "x = lambda a : a * 5\n",
    "print(x(2)) "
   ]
  },
  {
   "cell_type": "code",
   "execution_count": 14,
   "metadata": {},
   "outputs": [
    {
     "name": "stdout",
     "output_type": "stream",
     "text": [
      "30\n"
     ]
    }
   ],
   "source": [
    "x = lambda a, b : a * b\n",
    "print(x(5, 6)) "
   ]
  },
  {
   "cell_type": "code",
   "execution_count": 15,
   "metadata": {},
   "outputs": [
    {
     "name": "stdout",
     "output_type": "stream",
     "text": [
      "12\n",
      "18\n"
     ]
    }
   ],
   "source": [
    "# This is when Lambda expressions get powerful. These are called Higher Order Functions\n",
    "\n",
    "def multiply_N(n):\n",
    "    return lambda x: x * n\n",
    "\n",
    "doubler = multiply_N(2)\n",
    "tripler = multiply_N(3)\n",
    "\n",
    "print(doubler(6))\n",
    "print(tripler(6))"
   ]
  },
  {
   "cell_type": "markdown",
   "metadata": {},
   "source": [
    "### Map\n",
    "\n",
    "The `map()` function is for the transformation of values in a given sequence. This is done with the help of functions. \n",
    "\n",
    "### Filter\n",
    "\n",
    "This function allows us to filter out elements in a list satisfying the given set of constraints or conditions.  Suppose we wish to filter out values which are even then we can take the help of `filter()` function. \n",
    "\n",
    "\n",
    "### Reduce\n",
    "\n",
    "This `reduce()` function is available in the inbuilt module `functools`.\n",
    "\n",
    "Suppose we wish to compute the sum of numbers in a list. This involves the repetitive addition of two terms together in a list by using the iterative approach. By the help of reduce function, we can reduce the time of computation by performing additions in a parallel environment.\n",
    "\n",
    "\n",
    "Above mentioned functions take exactly two arguments:\n",
    "1. a function object\n",
    "2. an iterable object\n",
    "\n",
    "They can be used as:\n",
    "- `result = map(function , iterable object)`\n",
    "- `result = filter(function , iterable object)`\n",
    "- `result = reduce(function , iterable object)`\n",
    "\n",
    "The function argument may be defined via:\n",
    "\n",
    "- the conventional method\n",
    "- the help of lambda expression.\n",
    "\n",
    "Syntax: `lambda arguments : expression`"
   ]
  },
  {
   "cell_type": "code",
   "execution_count": 16,
   "metadata": {},
   "outputs": [],
   "source": [
    "numbers = [10,11,12,22,34,43,54,34,67,87,88,98,99,87,44,66]"
   ]
  },
  {
   "cell_type": "code",
   "execution_count": 17,
   "metadata": {},
   "outputs": [
    {
     "name": "stdout",
     "output_type": "stream",
     "text": [
      "[20, 22, 24, 44, 68, 86, 108, 68, 134, 174, 176, 196, 198, 174, 88, 132]\n"
     ]
    }
   ],
   "source": [
    "# Map\n",
    "\n",
    "multiply2 = list(map(lambda x: x*2, numbers))\n",
    "\n",
    "print(multiply2)\n"
   ]
  },
  {
   "cell_type": "code",
   "execution_count": 18,
   "metadata": {},
   "outputs": [
    {
     "name": "stdout",
     "output_type": "stream",
     "text": [
      "[11, 43, 67, 87, 99, 87]\n"
     ]
    }
   ],
   "source": [
    "# Filter\n",
    "\n",
    "oddNumbers = list(filter(lambda x: x%2 != 0, numbers))\n",
    "print(oddNumbers)\n"
   ]
  },
  {
   "cell_type": "code",
   "execution_count": 19,
   "metadata": {},
   "outputs": [
    {
     "name": "stdout",
     "output_type": "stream",
     "text": [
      "856\n"
     ]
    }
   ],
   "source": [
    "# Reduce/Aggregate\n",
    "from functools import reduce\n",
    "\n",
    "sumOfNumbers = reduce(lambda x,y: x+y, numbers)\n",
    "print(sumOfNumbers)\n"
   ]
  },
  {
   "cell_type": "markdown",
   "metadata": {},
   "source": [
    "### Performance \n",
    "\n",
    "Map, filter, reduce are important operations in **Functional Programming**. It is best suited in distributed environments. Iterations typically depend on the previous instruction to be completed, but MFR operate on all values regardless of sequence.\n",
    "\n",
    "If the below example is done in **Spark + Scala**, you will see at least **10x** improvement by using these constructs over a for loop if the data is huge.\n",
    "\n",
    "##### One of Python's drawbacks\n",
    "\n",
    "Python **threads** cannot take advantage of many cores. This is due to an internal implementation detail called the GIL (global interpreter lock) in the C implementation of python (cPython) which is almost certainly what you use.\n",
    "\n",
    "The workaround is the **`multiprocessing`** module http://www.python.org/dev/peps/pep-0371/ which was developed for this purpose.\n",
    "\n",
    "Documentation: http://docs.python.org/library/multiprocessing.html\n",
    "\n",
    "(Or use a parallel language.)\n",
    "\n",
    "Source: [is python capable of running on multiple cores?](https://stackoverflow.com/questions/7542957/is-python-capable-of-running-on-multiple-cores)\n"
   ]
  },
  {
   "cell_type": "code",
   "execution_count": 20,
   "metadata": {},
   "outputs": [
    {
     "name": "stdout",
     "output_type": "stream",
     "text": [
      "1249999975000000\n",
      "7.29 ms ± 1.17 ms per loop (mean ± std. dev. of 7 runs, 100 loops each)\n"
     ]
    }
   ],
   "source": [
    "total_sum_of_odd_cubes = reduce(lambda x, y: x+y, filter(lambda x: x%2 != 0, map(lambda x: x**3, range(10000))))\n",
    "print(total_sum_of_odd_cubes)\n",
    "\n",
    "%timeit reduce(lambda x, y: x+y, filter(lambda x: x%2 != 0, map(lambda x: x**3, range(10000))))\n"
   ]
  },
  {
   "cell_type": "code",
   "execution_count": 21,
   "metadata": {},
   "outputs": [],
   "source": [
    "def sum_of_odd_cubes(number_list):\n",
    "    total_sum = 0\n",
    "    for number in number_list:\n",
    "        cube = number ** 3\n",
    "        if cube % 2 != 0:\n",
    "            total_sum += cube\n",
    "    return total_sum"
   ]
  },
  {
   "cell_type": "code",
   "execution_count": 22,
   "metadata": {},
   "outputs": [
    {
     "name": "stdout",
     "output_type": "stream",
     "text": [
      "1249999975000000\n",
      "6.37 ms ± 1.71 ms per loop (mean ± std. dev. of 7 runs, 100 loops each)\n"
     ]
    }
   ],
   "source": [
    "print(sum_of_odd_cubes(range(10000)))\n",
    "\n",
    "%timeit sum_of_odd_cubes(range(10000))\n"
   ]
  },
  {
   "cell_type": "markdown",
   "metadata": {},
   "source": [
    "# Functional Programming\n",
    "\n",
    "Functional languages are **declarative** languages, they tell the computer what result they want. This is usually contrasted with **imperative** languages that tell the computer what steps to take to solve a problem.\n",
    "- **Pure Functions** - do not have side effects, that is, they do not change the state of the program. Given the same input, a pure function will always produce the same output. \n",
    "- **Immutability** - data cannot be changed after it is created. Take for example creating a List with 3 items and storing it in a variable my_list. If my_list is immutable, you wouldn't be able to change the individual items. You would have to set my_list to a new List if you'd like to use different values. \n",
    "- **Higher Order Functions** - functions can accept other functions as parameters and functions can return new functions as output. \n"
   ]
  },
  {
   "cell_type": "markdown",
   "metadata": {},
   "source": [
    "### Pure Functions"
   ]
  },
  {
   "cell_type": "code",
   "execution_count": 23,
   "metadata": {},
   "outputs": [
    {
     "name": "stdout",
     "output_type": "stream",
     "text": [
      "[1, 3, 5, 10]\n",
      "[2, 6, 10, 20]\n"
     ]
    }
   ],
   "source": [
    "\n",
    "def multiply_2_pure(numbers):\n",
    "    new_numbers = []\n",
    "    for n in numbers:\n",
    "        new_numbers.append(n * 2)\n",
    "    return new_numbers\n",
    "\n",
    "original_numbers = [1, 3, 5, 10]\n",
    "changed_numbers = multiply_2_pure(original_numbers)\n",
    "print(original_numbers) # [1, 3, 5, 10]\n",
    "print(changed_numbers)  # [2, 6, 10, 20]"
   ]
  },
  {
   "cell_type": "markdown",
   "metadata": {},
   "source": [
    "### Immutability\n",
    "\n",
    "Ever had a bug where you wondered how a variable you set to 25 became None? If that variable was immutable, the error would have been thrown where the variable was being changed, not where the changed value already affected the software - the root cause of the bug can be found earlier."
   ]
  },
  {
   "cell_type": "code",
   "execution_count": 30,
   "metadata": {},
   "outputs": [
    {
     "name": "stdout",
     "output_type": "stream",
     "text": [
      "[4, 5]\n",
      "[4, 5]\n"
     ]
    }
   ],
   "source": [
    "mutable_collection = ['Tim', 10, [4, 5]]\n",
    "\n",
    "immutable_collection = ('Tim', 10, [4, 5]) # As we saw above, tuples are immutable\n",
    "\n",
    "# Reading from data types are essentially the same:\n",
    "print(mutable_collection[2])    # [4, 5]\n",
    "print(immutable_collection[2])  # [4, 5]\n",
    "\n",
    "# Let's change the 2nd value from 10 to 15\n",
    "mutable_collection[1] = 15\n",
    "\n",
    "# This fails with the tuple\n",
    "# immutable_collection[1] = 15"
   ]
  },
  {
   "cell_type": "code",
   "execution_count": 31,
   "metadata": {},
   "outputs": [
    {
     "name": "stdout",
     "output_type": "stream",
     "text": [
      "[4, 5, 6]\n"
     ]
    },
    {
     "ename": "TypeError",
     "evalue": "'tuple' object does not support item assignment",
     "output_type": "error",
     "traceback": [
      "\u001b[0;31m---------------------------------------------------------------------------\u001b[0m",
      "\u001b[0;31mTypeError\u001b[0m                                 Traceback (most recent call last)",
      "\u001b[0;32m<ipython-input-31-22e5477d7a57>\u001b[0m in \u001b[0;36m<module>\u001b[0;34m\u001b[0m\n\u001b[1;32m      2\u001b[0m \u001b[0mprint\u001b[0m\u001b[0;34m(\u001b[0m\u001b[0mimmutable_collection\u001b[0m\u001b[0;34m[\u001b[0m\u001b[0;36m2\u001b[0m\u001b[0;34m]\u001b[0m\u001b[0;34m)\u001b[0m  \u001b[0;31m# [4, 5, 6]\u001b[0m\u001b[0;34m\u001b[0m\u001b[0;34m\u001b[0m\u001b[0m\n\u001b[1;32m      3\u001b[0m \u001b[0;34m\u001b[0m\u001b[0m\n\u001b[0;32m----> 4\u001b[0;31m \u001b[0mimmutable_collection\u001b[0m\u001b[0;34m[\u001b[0m\u001b[0;36m2\u001b[0m\u001b[0;34m]\u001b[0m \u001b[0;34m=\u001b[0m \u001b[0;34m[\u001b[0m\u001b[0;36m4\u001b[0m\u001b[0;34m,\u001b[0m \u001b[0;36m5\u001b[0m\u001b[0;34m]\u001b[0m\u001b[0;34m\u001b[0m\u001b[0;34m\u001b[0m\u001b[0m\n\u001b[0m",
      "\u001b[0;31mTypeError\u001b[0m: 'tuple' object does not support item assignment"
     ]
    }
   ],
   "source": [
    "immutable_collection[2].append(6)\n",
    "print(immutable_collection[2])  # [4, 5, 6]\n",
    "\n",
    "immutable_collection[2] = [4, 5]"
   ]
  },
  {
   "cell_type": "markdown",
   "metadata": {},
   "source": [
    "### Higher order functions"
   ]
  },
  {
   "cell_type": "code",
   "execution_count": 32,
   "metadata": {},
   "outputs": [
    {
     "name": "stdout",
     "output_type": "stream",
     "text": [
      "Hello\n",
      "Hello\n",
      "Hello\n",
      "Hello\n",
      "Hello\n"
     ]
    }
   ],
   "source": [
    "# Simple function\n",
    "\n",
    "def write_repeat(message, n, action):\n",
    "    for i in range(n):\n",
    "        action(message)\n",
    "\n",
    "write_repeat('Hello', 5)"
   ]
  },
  {
   "cell_type": "code",
   "execution_count": 33,
   "metadata": {},
   "outputs": [
    {
     "name": "stdout",
     "output_type": "stream",
     "text": [
      "Hello\n",
      "Hello\n",
      "Hello\n",
      "Hello\n",
      "Hello\n"
     ]
    }
   ],
   "source": [
    "def hof_write_repeat(message, n, action):\n",
    "    for i in range(n):\n",
    "        action(message)\n",
    "\n",
    "hof_write_repeat('Hello', 5, print)"
   ]
  },
  {
   "cell_type": "code",
   "execution_count": 34,
   "metadata": {},
   "outputs": [
    {
     "name": "stderr",
     "output_type": "stream",
     "text": [
      "ERROR:root:Hello\n",
      "ERROR:root:Hello\n",
      "ERROR:root:Hello\n",
      "ERROR:root:Hello\n",
      "ERROR:root:Hello\n"
     ]
    }
   ],
   "source": [
    "# Import the logging library\n",
    "import logging\n",
    "# Log the output as an error instead\n",
    "hof_write_repeat('Hello', 5, logging.error)\n"
   ]
  },
  {
   "cell_type": "code",
   "execution_count": 39,
   "metadata": {},
   "outputs": [
    {
     "name": "stdout",
     "output_type": "stream",
     "text": [
      "0 5\n",
      "1 4\n",
      "2 3\n",
      "3 2\n",
      "4 1\n"
     ]
    }
   ],
   "source": [
    "for i, num in enumerate([5,4,3,2,1]):\n",
    "    print(i, num)"
   ]
  },
  {
   "cell_type": "markdown",
   "metadata": {},
   "source": [
    "# Searching and Sorting"
   ]
  },
  {
   "cell_type": "code",
   "execution_count": 40,
   "metadata": {},
   "outputs": [],
   "source": [
    "def linear_search(list_of_numbers, element):\n",
    "    for i, num in enumerate(list_of_numbers):\n",
    "        if num == element:\n",
    "            return i, True\n",
    "    return None, False\n"
   ]
  },
  {
   "cell_type": "code",
   "execution_count": 41,
   "metadata": {},
   "outputs": [],
   "source": [
    "list_num = [2,4,4564,123,245345,678,34534,123,545]"
   ]
  },
  {
   "cell_type": "code",
   "execution_count": 42,
   "metadata": {},
   "outputs": [
    {
     "name": "stdout",
     "output_type": "stream",
     "text": [
      "(5, True)\n"
     ]
    }
   ],
   "source": [
    "print(linear_search(list_num, 678))"
   ]
  },
  {
   "cell_type": "code",
   "execution_count": 49,
   "metadata": {},
   "outputs": [],
   "source": [
    "def insertion_sort(arr): \n",
    "    for i in range(1, len(arr)): \n",
    "        key = arr[i] \n",
    "        j = i-1\n",
    "        while j >=0 and key < arr[j] : \n",
    "            arr[j+1] = arr[j] \n",
    "            j -= 1\n",
    "        arr[j+1] = key "
   ]
  },
  {
   "cell_type": "code",
   "execution_count": 51,
   "metadata": {},
   "outputs": [
    {
     "name": "stdout",
     "output_type": "stream",
     "text": [
      "[5, 6, 11, 12, 13]\n"
     ]
    }
   ],
   "source": [
    "arr = [12, 11, 13, 5, 6] \n",
    "insertion_sort(arr)\n",
    "print(arr)"
   ]
  },
  {
   "cell_type": "code",
   "execution_count": 47,
   "metadata": {},
   "outputs": [
    {
     "name": "stdout",
     "output_type": "stream",
     "text": [
      "4 3\n"
     ]
    }
   ],
   "source": []
  },
  {
   "cell_type": "code",
   "execution_count": null,
   "metadata": {},
   "outputs": [],
   "source": []
  }
 ],
 "metadata": {
  "kernelspec": {
   "display_name": "Python 3",
   "language": "python",
   "name": "python3"
  },
  "language_info": {
   "codemirror_mode": {
    "name": "ipython",
    "version": 3
   },
   "file_extension": ".py",
   "mimetype": "text/x-python",
   "name": "python",
   "nbconvert_exporter": "python",
   "pygments_lexer": "ipython3",
   "version": "3.6.7"
  }
 },
 "nbformat": 4,
 "nbformat_minor": 2
}
